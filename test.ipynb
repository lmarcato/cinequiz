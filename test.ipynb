{
 "cells": [
  {
   "cell_type": "code",
   "execution_count": 1,
   "metadata": {},
   "outputs": [],
   "source": [
    "%load_ext autoreload\n",
    "%autoreload 2"
   ]
  },
  {
   "cell_type": "code",
   "execution_count": 2,
   "metadata": {},
   "outputs": [],
   "source": [
    "from models import *"
   ]
  },
  {
   "cell_type": "code",
   "execution_count": 3,
   "metadata": {},
   "outputs": [
    {
     "name": "stderr",
     "output_type": "stream",
     "text": [
      "d:\\Master\\Workspace\\Python\\cinequiz\\models.py:58: DtypeWarning: Columns (6) have mixed types. Specify dtype option on import or set low_memory=False.\n",
      "  self.title_basics = pd.read_csv(constant.TITLE_BASICS, sep='\\t')\n"
     ]
    }
   ],
   "source": [
    "game = Game(Player('a'), 2)\n"
   ]
  },
  {
   "cell_type": "code",
   "execution_count": 4,
   "metadata": {},
   "outputs": [
    {
     "name": "stdout",
     "output_type": "stream",
     "text": [
      "Ciao a, iniziamo a giocare.\n",
      "Iniziamo!\n",
      "\n",
      "            -------------------------\n",
      "                Quiz numero 1\n",
      "            -------------------------\n",
      "                \n",
      "Qual è la durata del film 'Skärgårdskavaljerer'?\n",
      "1: 1:25\n",
      "2: 1:20\n",
      "3: 1:0\n",
      "4: 1:10\n",
      "Risposta corretta! Esattamente 1:25\n",
      "\n",
      "            -------------------------\n",
      "                Quiz numero 2\n",
      "            -------------------------\n",
      "                \n",
      "Qual è la durata del film 'The Lone Wolf in Mexico'?\n",
      "1: 1:34\n",
      "2: 1:20\n",
      "3: 1:9\n",
      "4: 1:3\n",
      "Risposta corretta! Esattamente 1:9\n",
      "Il tuo punteggio totale è di 400 punti in 1 partite!\n"
     ]
    }
   ],
   "source": [
    "game.run()"
   ]
  },
  {
   "cell_type": "code",
   "execution_count": null,
   "metadata": {},
   "outputs": [],
   "source": [
    "import constant\n",
    "\n",
    "quiz = constant.QUIZ['quiz']\n",
    "title_type = np.random.choice(constant.QUIZ_TITLE_TYPE)\n",
    "movie = quiz[title_type]\n",
    "quiz_question = movie[np.random.choice(range(len(movie) - 1))]\n",
    "callable = [v for v in quiz_question.values()][0]\n",
    "print(callable)"
   ]
  }
 ],
 "metadata": {
  "kernelspec": {
   "display_name": "Python 3",
   "language": "python",
   "name": "python3"
  },
  "language_info": {
   "codemirror_mode": {
    "name": "ipython",
    "version": 3
   },
   "file_extension": ".py",
   "mimetype": "text/x-python",
   "name": "python",
   "nbconvert_exporter": "python",
   "pygments_lexer": "ipython3",
   "version": "3.9.7"
  }
 },
 "nbformat": 4,
 "nbformat_minor": 2
}
