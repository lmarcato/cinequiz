{
 "cells": [
  {
   "cell_type": "code",
   "execution_count": 1,
   "metadata": {},
   "outputs": [],
   "source": [
    "%load_ext autoreload\n",
    "%autoreload 2"
   ]
  },
  {
   "cell_type": "code",
   "execution_count": 2,
   "metadata": {},
   "outputs": [],
   "source": [
    "from models import *"
   ]
  },
  {
   "cell_type": "markdown",
   "metadata": {},
   "source": [
    "## Prova di gioco\n",
    "\n",
    "Creo un'istanza della classe *game* passando al costruttore i parametri *player*, ovvero, il giocatore di nome 'Test player' e imposto la partita con 5 quiz."
   ]
  },
  {
   "cell_type": "code",
   "execution_count": 3,
   "metadata": {},
   "outputs": [
    {
     "name": "stderr",
     "output_type": "stream",
     "text": [
      "d:\\Master\\Workspace\\Python\\cinequiz\\models.py:172: DtypeWarning: Columns (6) have mixed types. Specify dtype option on import or set low_memory=False.\n",
      "  self.title_basics = pd.read_csv(constant.TITLE_BASICS, sep='\\t')\n"
     ]
    }
   ],
   "source": [
    "game = Game(player=Player(name='Test player'), quiz_number=5)"
   ]
  },
  {
   "cell_type": "markdown",
   "metadata": {},
   "source": [
    "Il metodo *run* gestisce tutte le iterazioni dell'utente con il sistema permettendogli di impostare il livello di difficoltà delle domande, visualizzare il quiz e inviare la risposta"
   ]
  },
  {
   "cell_type": "code",
   "execution_count": null,
   "metadata": {},
   "outputs": [],
   "source": [
    "game.run()"
   ]
  },
  {
   "cell_type": "markdown",
   "metadata": {},
   "source": [
    "## Generazione dei quiz"
   ]
  },
  {
   "cell_type": "code",
   "execution_count": 4,
   "metadata": {},
   "outputs": [
    {
     "name": "stderr",
     "output_type": "stream",
     "text": [
      "d:\\Master\\Workspace\\Python\\cinequiz\\models.py:172: DtypeWarning: Columns (6) have mixed types. Specify dtype option on import or set low_memory=False.\n",
      "  self.title_basics = pd.read_csv(constant.TITLE_BASICS, sep='\\t')\n"
     ]
    }
   ],
   "source": [
    "qg = QuizGenerator()"
   ]
  },
  {
   "cell_type": "code",
   "execution_count": 5,
   "metadata": {},
   "outputs": [
    {
     "data": {
      "text/plain": [
       "(\"Da quanti episodi è composta la serie tv '30 grados a la sombra'?\",\n",
       " {'4': ('12', True), '1': ('1', False), '2': ('2', False), '3': ('5', False)})"
      ]
     },
     "execution_count": 5,
     "metadata": {},
     "output_type": "execute_result"
    }
   ],
   "source": [
    "quiz = qg._number_episodes(difficulty='EASY')\n",
    "quiz.question, quiz.answers"
   ]
  },
  {
   "cell_type": "code",
   "execution_count": 6,
   "metadata": {},
   "outputs": [
    {
     "data": {
      "text/plain": [
       "('4', '12')"
      ]
     },
     "execution_count": 6,
     "metadata": {},
     "output_type": "execute_result"
    }
   ],
   "source": [
    "quiz.get_solution()"
   ]
  },
  {
   "cell_type": "code",
   "execution_count": 7,
   "metadata": {},
   "outputs": [
    {
     "data": {
      "text/plain": [
       "(False, False, False, True)"
      ]
     },
     "execution_count": 7,
     "metadata": {},
     "output_type": "execute_result"
    }
   ],
   "source": [
    "quiz.check_answer('1'), quiz.check_answer('2'), quiz.check_answer('3'), quiz.check_answer('4'),"
   ]
  },
  {
   "cell_type": "markdown",
   "metadata": {},
   "source": [
    "## Salvataggio dei dati delle partite"
   ]
  },
  {
   "cell_type": "code",
   "execution_count": 8,
   "metadata": {},
   "outputs": [],
   "source": [
    "player = Player(name='Luca')"
   ]
  },
  {
   "cell_type": "code",
   "execution_count": 9,
   "metadata": {},
   "outputs": [],
   "source": [
    "player.add_game(game='1', result=(5,10), score=600)\n",
    "player.add_game(game='2', result=(0,3), score=0)\n",
    "player.add_game(game='3', result=(5,6), score=700)"
   ]
  },
  {
   "cell_type": "code",
   "execution_count": 11,
   "metadata": {},
   "outputs": [
    {
     "data": {
      "text/plain": [
       "(['Game 1 correct answers: [5/10], final score: 600',\n",
       "  'Game 2 correct answers: [0/3], final score: 0',\n",
       "  'Game 3 correct answers: [5/6], final score: 700'],\n",
       " 1300)"
      ]
     },
     "execution_count": 11,
     "metadata": {},
     "output_type": "execute_result"
    }
   ],
   "source": [
    "player.get_games(), player.total_score()"
   ]
  },
  {
   "cell_type": "markdown",
   "metadata": {},
   "source": [
    "## Lettura dei file tsv e Pandas"
   ]
  },
  {
   "cell_type": "code",
   "execution_count": 12,
   "metadata": {},
   "outputs": [
    {
     "name": "stderr",
     "output_type": "stream",
     "text": [
      "d:\\Master\\Workspace\\Python\\cinequiz\\models.py:172: DtypeWarning: Columns (6) have mixed types. Specify dtype option on import or set low_memory=False.\n",
      "  self.title_basics = pd.read_csv(constant.TITLE_BASICS, sep='\\t')\n"
     ]
    }
   ],
   "source": [
    "imdb = ImdbTsvReader()"
   ]
  },
  {
   "cell_type": "code",
   "execution_count": 15,
   "metadata": {},
   "outputs": [
    {
     "data": {
      "text/html": [
       "<div>\n",
       "<style scoped>\n",
       "    .dataframe tbody tr th:only-of-type {\n",
       "        vertical-align: middle;\n",
       "    }\n",
       "\n",
       "    .dataframe tbody tr th {\n",
       "        vertical-align: top;\n",
       "    }\n",
       "\n",
       "    .dataframe thead th {\n",
       "        text-align: right;\n",
       "    }\n",
       "</style>\n",
       "<table border=\"1\" class=\"dataframe\">\n",
       "  <thead>\n",
       "    <tr style=\"text-align: right;\">\n",
       "      <th></th>\n",
       "      <th>Unnamed: 0</th>\n",
       "      <th>tconst</th>\n",
       "      <th>titleType</th>\n",
       "      <th>primaryTitle</th>\n",
       "      <th>originalTitle</th>\n",
       "      <th>isAdult</th>\n",
       "      <th>startYear</th>\n",
       "      <th>endYear</th>\n",
       "      <th>runtimeMinutes</th>\n",
       "      <th>genres</th>\n",
       "    </tr>\n",
       "  </thead>\n",
       "  <tbody>\n",
       "    <tr>\n",
       "      <th>95715</th>\n",
       "      <td>95715</td>\n",
       "      <td>tt0133093</td>\n",
       "      <td>movie</td>\n",
       "      <td>The Matrix</td>\n",
       "      <td>The Matrix</td>\n",
       "      <td>0</td>\n",
       "      <td>1999</td>\n",
       "      <td>\\N</td>\n",
       "      <td>136</td>\n",
       "      <td>Action,Sci-Fi</td>\n",
       "    </tr>\n",
       "  </tbody>\n",
       "</table>\n",
       "</div>"
      ],
      "text/plain": [
       "       Unnamed: 0     tconst titleType primaryTitle originalTitle  isAdult  \\\n",
       "95715       95715  tt0133093     movie   The Matrix    The Matrix        0   \n",
       "\n",
       "      startYear endYear runtimeMinutes         genres  \n",
       "95715      1999      \\N            136  Action,Sci-Fi  "
      ]
     },
     "execution_count": 15,
     "metadata": {},
     "output_type": "execute_result"
    }
   ],
   "source": [
    "matrix = imdb.get_movie_by_id(id='tt0133093')\n",
    "matrix"
   ]
  },
  {
   "cell_type": "code",
   "execution_count": 19,
   "metadata": {},
   "outputs": [
    {
     "data": {
      "text/plain": [
       "('tt0133093', 'Action', '1999')"
      ]
     },
     "execution_count": 19,
     "metadata": {},
     "output_type": "execute_result"
    }
   ],
   "source": [
    "tconst = matrix.iloc [0]['tconst']\n",
    "genre = matrix.iloc [0]['genres'].split(',')[0]\n",
    "year = matrix.iloc [0]['startYear']\n",
    "\n",
    "tconst, genre, year"
   ]
  },
  {
   "cell_type": "code",
   "execution_count": 21,
   "metadata": {},
   "outputs": [
    {
     "data": {
      "text/html": [
       "<div>\n",
       "<style scoped>\n",
       "    .dataframe tbody tr th:only-of-type {\n",
       "        vertical-align: middle;\n",
       "    }\n",
       "\n",
       "    .dataframe tbody tr th {\n",
       "        vertical-align: top;\n",
       "    }\n",
       "\n",
       "    .dataframe thead th {\n",
       "        text-align: right;\n",
       "    }\n",
       "</style>\n",
       "<table border=\"1\" class=\"dataframe\">\n",
       "  <thead>\n",
       "    <tr style=\"text-align: right;\">\n",
       "      <th></th>\n",
       "      <th>Unnamed: 0</th>\n",
       "      <th>tconst</th>\n",
       "      <th>titleType</th>\n",
       "      <th>primaryTitle</th>\n",
       "      <th>originalTitle</th>\n",
       "      <th>isAdult</th>\n",
       "      <th>startYear</th>\n",
       "      <th>endYear</th>\n",
       "      <th>runtimeMinutes</th>\n",
       "      <th>genres</th>\n",
       "    </tr>\n",
       "  </thead>\n",
       "  <tbody>\n",
       "    <tr>\n",
       "      <th>134490</th>\n",
       "      <td>134490</td>\n",
       "      <td>tt0206067</td>\n",
       "      <td>movie</td>\n",
       "      <td>Kachche Dhaage</td>\n",
       "      <td>Kachche Dhaage</td>\n",
       "      <td>0</td>\n",
       "      <td>1999</td>\n",
       "      <td>\\N</td>\n",
       "      <td>144</td>\n",
       "      <td>Action,Drama,Thriller</td>\n",
       "    </tr>\n",
       "    <tr>\n",
       "      <th>141892</th>\n",
       "      <td>141892</td>\n",
       "      <td>tt0220757</td>\n",
       "      <td>movie</td>\n",
       "      <td>Shool</td>\n",
       "      <td>Shool</td>\n",
       "      <td>0</td>\n",
       "      <td>1999</td>\n",
       "      <td>\\N</td>\n",
       "      <td>138</td>\n",
       "      <td>Action,Crime,Drama</td>\n",
       "    </tr>\n",
       "    <tr>\n",
       "      <th>171594</th>\n",
       "      <td>171594</td>\n",
       "      <td>tt0281122</td>\n",
       "      <td>movie</td>\n",
       "      <td>Ready, Willing &amp; Able</td>\n",
       "      <td>Ready, Willing &amp; Able</td>\n",
       "      <td>0</td>\n",
       "      <td>1999</td>\n",
       "      <td>\\N</td>\n",
       "      <td>81</td>\n",
       "      <td>Action,Drama,Thriller</td>\n",
       "    </tr>\n",
       "  </tbody>\n",
       "</table>\n",
       "</div>"
      ],
      "text/plain": [
       "        Unnamed: 0     tconst titleType           primaryTitle  \\\n",
       "134490      134490  tt0206067     movie         Kachche Dhaage   \n",
       "141892      141892  tt0220757     movie                  Shool   \n",
       "171594      171594  tt0281122     movie  Ready, Willing & Able   \n",
       "\n",
       "                originalTitle  isAdult startYear endYear runtimeMinutes  \\\n",
       "134490         Kachche Dhaage        0      1999      \\N            144   \n",
       "141892                  Shool        0      1999      \\N            138   \n",
       "171594  Ready, Willing & Able        0      1999      \\N             81   \n",
       "\n",
       "                       genres  \n",
       "134490  Action,Drama,Thriller  \n",
       "141892     Action,Crime,Drama  \n",
       "171594  Action,Drama,Thriller  "
      ]
     },
     "execution_count": 21,
     "metadata": {},
     "output_type": "execute_result"
    }
   ],
   "source": [
    "wrong_answers = imdb.get_duration_by_difficulty(difficulty='HARD',\n",
    "                                                different_from=tconst,\n",
    "                                                genre=genre,\n",
    "                                                year=year)\n",
    "wrong_answers"
   ]
  }
 ],
 "metadata": {
  "kernelspec": {
   "display_name": "Python 3",
   "language": "python",
   "name": "python3"
  },
  "language_info": {
   "codemirror_mode": {
    "name": "ipython",
    "version": 3
   },
   "file_extension": ".py",
   "mimetype": "text/x-python",
   "name": "python",
   "nbconvert_exporter": "python",
   "pygments_lexer": "ipython3",
   "version": "3.9.7"
  }
 },
 "nbformat": 4,
 "nbformat_minor": 2
}
